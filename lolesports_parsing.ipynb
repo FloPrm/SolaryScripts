{
 "cells": [
  {
   "cell_type": "code",
   "execution_count": 37,
   "metadata": {},
   "outputs": [
    {
     "name": "stdout",
     "output_type": "stream",
     "text": [
      "fc-schalke-04-esports-vs-roccat\n",
      "g2-esports-vs-h2k\n",
      "http://matchhistory.euw.leagueoflegends.com/fr/#match-details/TRLH3/1002620127?gameHash=4626a64bdf24f5af\n",
      "unicorns-of-love-vs-splyce\n",
      "http://matchhistory.euw.leagueoflegends.com/fr/#match-details/TRLH3/1002620101?gameHash=30d88e93cf28f07f\n",
      "vitality-vs-fnatic\n",
      "http://matchhistory.euw.leagueoflegends.com/fr/#match-details/TRLH3/1002620150?gameHash=4e5325b85a90c132\n",
      "misfits-gaming-vs-giants\n"
     ]
    }
   ],
   "source": [
    "import datetime\n",
    "import requests\n",
    "from bs4 import BeautifulSoup\n",
    "\n",
    "# PANDASCORE API KEY - GET ONE HERE : https://api.pandascore.co/\n",
    "API_KEY = 'YOUR API KEY HERE'\n",
    "\n",
    "#------------------ TOURNAMENTS IDS -----------------------#\n",
    "'''\n",
    "LPL GROUP A : 1402\n",
    "LPL GROUP B : 1401\n",
    "LPL GROUP AB : 1400\n",
    "LCK : 1399\n",
    "NACS : 1421\n",
    "TR : 1420\n",
    "EULCS : 1398\n",
    "NALCS : 1205\n",
    "from https://api.pandascore.co/lol/tournaments/running.json\n",
    "'''\n",
    "#regions = '1205,1398,1399,1400,1401,1402,1420,1421'\n",
    "regions = '1398'\n",
    "\n",
    "#-------------------- UTILS --------------------------------#\n",
    "\n",
    "def get_opponents(name, t1, t2):\n",
    "    name = name.replace(t1[\"opponent\"][\"acronym\"], t1[\"opponent\"][\"name\"])\n",
    "    name = name.replace(t2[\"opponent\"][\"acronym\"], t2[\"opponent\"][\"name\"])\n",
    "    name = name.replace(\" \", \"-\")\n",
    "    return name.lower()\n",
    "\n",
    "#------------------ GET YESTERDAY MATCHES ------------------#\n",
    "today = datetime.date.today( )\n",
    "yesterday = today - datetime.timedelta(days=1)\n",
    "\n",
    "params = {\n",
    "    'token': API_KEY,\n",
    "    'range[begin_at]' : str(yesterday)+','+str(today),\n",
    "    'filter[tournament_id]' : regions\n",
    "}\n",
    "\n",
    "url = 'https://api.pandascore.co/lol/matches.json'\n",
    "resp = requests.get(url=url, params=params)\n",
    "\n",
    "matches = resp.json()\n",
    "\n",
    "#-------------------- GET STATS FROM LOLESPORTS ------------#\n",
    "\n",
    "for match in matches:\n",
    "    # get opponents\n",
    "    match_name = get_opponents(match[\"name\"], match[\"opponents\"][0], match[\"opponents\"][1])\n",
    "    print(match_name)\n",
    "    url = 'https://eu.lolesports.com/fr/eu-lcs/eu_2018_summer/match/2018-08-03/'+match_name\n",
    "    resp = requests.get(url=url)\n",
    "    if resp.status_code == requests.codes.ok :           \n",
    "        soup = BeautifulSoup(resp.text, 'html.parser')\n",
    "        page_links = soup.find_all('a')\n",
    "        match_link = next(x for x in page_links if \"Voir les stats\" in x).get('href')\n",
    "        print(match_link)\n",
    "    #print(resp.json())\n",
    "    #for game in match['games']:\n",
    "    #    print(game)"
   ]
  }
 ],
 "metadata": {
  "kernelspec": {
   "display_name": "Python 3",
   "language": "python",
   "name": "python3"
  },
  "language_info": {
   "codemirror_mode": {
    "name": "ipython",
    "version": 3
   },
   "file_extension": ".py",
   "mimetype": "text/x-python",
   "name": "python",
   "nbconvert_exporter": "python",
   "pygments_lexer": "ipython3",
   "version": "3.6.4"
  }
 },
 "nbformat": 4,
 "nbformat_minor": 2
}
